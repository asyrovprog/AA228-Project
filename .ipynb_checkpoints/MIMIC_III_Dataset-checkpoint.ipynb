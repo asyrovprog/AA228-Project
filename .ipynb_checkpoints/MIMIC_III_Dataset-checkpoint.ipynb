{
 "cells": [
  {
   "cell_type": "markdown",
   "metadata": {
    "colab_type": "text",
    "id": "view-in-github"
   },
   "source": [
    "<a href=\"https://colab.research.google.com/github/rptrevin/AA228-Project/blob/master/MIMIC_III_Dataset.ipynb\" target=\"_parent\"><img src=\"https://colab.research.google.com/assets/colab-badge.svg\" alt=\"Open In Colab\"/></a>"
   ]
  },
  {
   "cell_type": "markdown",
   "metadata": {
    "id": "DYlJVCZ4rO2e"
   },
   "source": [
    "# **MIMIC-III Data Analysis**\n",
    "\n",
    "*   List item\n",
    "*   List item\n",
    "\n",
    "\n",
    "---\n",
    "### Overview\n",
    "This Colab document serves to provide insight and basic summary statistics around non-anomolous authors\"."
   ]
  },
  {
   "cell_type": "code",
   "execution_count": null,
   "metadata": {
    "id": "bxl9jnDcqICv"
   },
   "outputs": [],
   "source": [
    "# Run this cell to authenticate to BigQuery\n",
    "from google.colab import auth\n",
    "auth.authenticate_user()\n",
    "project_id = \"aa228-project-291007\""
   ]
  },
  {
   "cell_type": "code",
   "execution_count": null,
   "metadata": {
    "id": "yoBRedudsG9m"
   },
   "outputs": [],
   "source": [
    "%%bigquery --project $project_id caregiver_df\n",
    "\n",
    "SELECT * \n",
    "FROM `aa228-project-291007.2020_09_28_mimic_project.001_caregiver_meta_data`\n",
    "ORDER BY los\n",
    "LIMIT 1000"
   ]
  },
  {
   "cell_type": "code",
   "execution_count": null,
   "metadata": {},
   "outputs": [],
   "source": []
  },
  {
   "cell_type": "code",
   "execution_count": null,
   "metadata": {
    "colab": {
     "base_uri": "https://localhost:8080/",
     "height": 335
    },
    "id": "0UvdHnGzslUv",
    "outputId": "611483ec-78c9-40d4-fe88-b733ad16e34e"
   },
   "outputs": [
    {
     "data": {
      "text/plain": [
       "array([[<matplotlib.axes._subplots.AxesSubplot object at 0x7fdbcbcfe908>,\n",
       "        <matplotlib.axes._subplots.AxesSubplot object at 0x7fdbcbcc9278>]],\n",
       "      dtype=object)"
      ]
     },
     "execution_count": 22,
     "metadata": {
      "tags": []
     },
     "output_type": "execute_result"
    },
    {
     "data": {
      "image/png": "[encoded data removed]",
      "text/plain": [
       "<Figure size 432x288 with 2 Axes>"
      ]
     },
     "metadata": {
      "needs_background": "light",
      "tags": []
     },
     "output_type": "display_data"
    }
   ],
   "source": [
    "caregiver_df[['num_chart_events', 'los']].hist(bins=100)"
   ]
  }
 ],
 "metadata": {
  "colab": {
   "authorship_tag": "ABX9TyPCveOZBXd9V+u/dSQ/MTB6",
   "collapsed_sections": [],
   "include_colab_link": true,
   "name": "MIMIC-III Dataset",
   "provenance": []
  },
  "kernelspec": {
   "display_name": "Python 3",
   "language": "python",
   "name": "python3"
  },
  "language_info": {
   "codemirror_mode": {
    "name": "ipython",
    "version": 3
   },
   "file_extension": ".py",
   "mimetype": "text/x-python",
   "name": "python",
   "nbconvert_exporter": "python",
   "pygments_lexer": "ipython3",
   "version": "3.7.3"
  }
 },
 "nbformat": 4,
 "nbformat_minor": 1
}
