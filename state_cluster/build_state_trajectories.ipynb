{
 "cells": [
  {
   "cell_type": "code",
   "execution_count": 1,
   "metadata": {},
   "outputs": [
    {
     "data": {
      "text/plain": [
       "load_patients (generic function with 1 method)"
      ]
     },
     "execution_count": 1,
     "metadata": {},
     "output_type": "execute_result"
    }
   ],
   "source": [
    "include(\"state_utils.jl\")"
   ]
  },
  {
   "cell_type": "code",
   "execution_count": 2,
   "metadata": {},
   "outputs": [
    {
     "data": {
      "text/plain": [
       "49×750 Array{Float64,2}:\n",
       "  0.40622    -0.359482    0.355052    0.421069  …   0.299349     -0.0744802\n",
       " -0.403457    0.227875    0.135838   -0.337671     -0.295816      0.0895853\n",
       "  0.057937   -0.0427263  -0.0962289   0.424601      0.254819      0.189519\n",
       "  0.323062    0.553472   -0.39423     0.918227      0.206701      0.421109\n",
       "  0.262369    0.770682   -0.353434    0.967542      0.14065       0.475746\n",
       "  0.387567    0.27039    -0.223944    1.01172   …   0.341578      0.267425\n",
       "  0.0540531   0.38316    -0.452211    0.706943      0.010038      0.476519\n",
       " -0.0318675   0.837272   -0.236756   -0.310497      0.180282      0.445651\n",
       "  0.0200429  -1.47475     0.4939      0.500315     -0.122612      0.233625\n",
       "  0.066215   -1.72938    -0.169337    0.17992      -0.000744307  -0.115629\n",
       "  0.166773   -1.86715    -0.466514   -0.228327  …   0.13         -0.171712\n",
       "  0.0883901  -1.03962     0.480752    0.390763      0.0648888     0.127738\n",
       " -0.0419525   2.38272     1.47009     0.687139      0.0411181     0.153209\n",
       "  ⋮                                             ⋱                \n",
       " -0.411694   -0.0249086   0.422938    0.210414     -0.0513773     0.222726\n",
       " -0.155215   -0.0792438  -0.211224   -0.37116       0.333804     -0.166285\n",
       " -0.139607    0.694957    0.499223    0.578033     -0.675945      0.637647\n",
       "  0.0497621  -1.68392    -0.231306    0.175772  …  -0.0319408    -0.105024\n",
       "  0.0440049  -1.60854    -0.254057    0.180741     -0.050793     -0.106925\n",
       "  0.039631   -1.58227    -0.267039    0.178332     -0.0599999    -0.104314\n",
       " -0.205804   -0.21514     1.07543     1.04993      -0.205828      0.275517\n",
       " -0.207929   -0.214748    0.942747    1.07493      -0.202441      0.266903\n",
       " -0.202492   -0.21429     0.789957    1.09398   …  -0.19384       0.260134\n",
       " -0.425876   -0.0180213   0.469083    0.214074     -0.066082      0.222774\n",
       " -0.424488   -0.0193084   0.45088     0.224084     -0.0555395     0.216573\n",
       " -0.416621   -0.0235873   0.352036    0.234761     -0.0428763     0.209989"
      ]
     },
     "execution_count": 2,
     "metadata": {},
     "output_type": "execute_result"
    }
   ],
   "source": [
    "state_vectors_file = apath * \"state_vectors.json\" \n",
    "C = restore_state_vectors(state_vectors_file)"
   ]
  },
  {
   "cell_type": "code",
   "execution_count": 3,
   "metadata": {},
   "outputs": [],
   "source": [
    "patients = load_patients();"
   ]
  },
  {
   "cell_type": "code",
   "execution_count": 4,
   "metadata": {},
   "outputs": [
    {
     "data": {
      "text/plain": [
       "Dict{String,Any} with 8 entries:\n",
       "  \"num_observations\" => 74\n",
       "  \"mortality\"        => true\n",
       "  \"patient_index\"    => 1\n",
       "  \"actions\"          => Any[21, 21, 1, 1, 1, 1, 1, 1, 1, 21  …  1, 1, 1, 1, 2, …\n",
       "  \"icuid\"            => 200003\n",
       "  \"MAP\"              => Any[83, 84.5, 68.2, 69.3333, 70, 73, 66, 68, 71, 72  … …\n",
       "  \"cont_actions\"     => Any[Any[0.2245, 0.224, 0, 0, 0, 0, 0, 0, 0, 0.225  …  0…\n",
       "  \"trajectory\"       => Any[Any[-0.359482, 0.439907, -1.05909, -0.487919, -0.17…"
      ]
     },
     "execution_count": 4,
     "metadata": {},
     "output_type": "execute_result"
    }
   ],
   "source": [
    "patients[1]"
   ]
  },
  {
   "cell_type": "code",
   "execution_count": 5,
   "metadata": {},
   "outputs": [],
   "source": [
    "for pid = 1:n_patients\n",
    "    p       = patients[pid]\n",
    "    states  = []\n",
    "    rewards = []\n",
    "    tr      = p[\"trajectory\"]\n",
    "    tr_len  = size(tr)[1] \n",
    "    dims    = size(tr[1])[1]\n",
    "\n",
    "    for j  = 1:tr_len\n",
    "        d    = Float64(Inf)\n",
    "        idx  = -1\n",
    "        tr_k = convert(Array{Float64, 1}, tr[j])\n",
    "        for k = 1:n_states\n",
    "            d_k = distance(tr_k, C[:, k], dims)\n",
    "            if d_k < d\n",
    "                d   = d_k\n",
    "                idx = k\n",
    "            end\n",
    "        end\n",
    "        push!(states, idx)\n",
    "        push!(rewards, 0.0)\n",
    "    end\n",
    "\n",
    "    if p[\"mortality\"]\n",
    "        push!(states, STATE_DECEASED)\n",
    "        push!(rewards, -1.0)\n",
    "    else\n",
    "        push!(states, STATE_SURVIVED)\n",
    "        push!(rewards, 1.0)\n",
    "    end    \n",
    "\n",
    "    mdp_p = Dict()\n",
    "    mdp_p[\"trajectory\"]      = states\n",
    "    mdp_p[\"rewards\"]         = rewards\n",
    "    mdp_p[\"actions\"]         = p[\"actions\"]\n",
    "    mdp_p[\"cont_actions\"]    = p[\"cont_actions\"]\n",
    "    mdp_p[\"cont_trajectory\"] = p[\"trajectory\"]\n",
    "\n",
    "    json_mdp_p = JSON.json(mdp_p)\n",
    "    filename   = apath * \"mdp_patient_\" * string(pid) * \".json\"\n",
    "\n",
    "    open(filename, \"w\") do io\n",
    "       println(io, json_mdp_p)\n",
    "    end\n",
    "end\n"
   ]
  },
  {
   "cell_type": "code",
   "execution_count": null,
   "metadata": {},
   "outputs": [],
   "source": []
  }
 ],
 "metadata": {
  "kernelspec": {
   "display_name": "Julia 1.5.2",
   "language": "julia",
   "name": "julia-1.5"
  },
  "language_info": {
   "file_extension": ".jl",
   "mimetype": "application/julia",
   "name": "julia",
   "version": "1.5.2"
  }
 },
 "nbformat": 4,
 "nbformat_minor": 4
}
