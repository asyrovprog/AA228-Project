{
 "cells": [
  {
   "cell_type": "code",
   "execution_count": 2,
   "metadata": {},
   "outputs": [
    {
     "data": {
      "text/plain": [
       "load_patients (generic function with 1 method)"
      ]
     },
     "execution_count": 2,
     "metadata": {},
     "output_type": "execute_result"
    }
   ],
   "source": [
    "include(\"state_utils.jl\")"
   ]
  },
  {
   "cell_type": "code",
   "execution_count": 3,
   "metadata": {},
   "outputs": [
    {
     "data": {
      "text/plain": [
       "49×750 Array{Float64,2}:\n",
       " -0.232864   -0.359482    0.397083    …  -0.303399     0.277017\n",
       " -0.0260014   0.227875   -0.253791        0.085407     0.0345901\n",
       "  0.0672445  -0.0427263  -0.215094        0.348456     0.102411\n",
       " -0.306601    0.553472    0.819391        0.306618     0.122776\n",
       " -0.299481    0.770682    0.735305        0.248489     0.115765\n",
       " -0.429854    0.27039     1.00207     …   0.240295     0.0169706\n",
       " -0.28756     0.38316     0.647007       -0.00456116   0.291724\n",
       "  0.0742778   0.837272   -0.0939831       0.664411    -0.00935999\n",
       " -0.0663693  -1.47475     0.293488        0.312457     0.0494578\n",
       " -0.11441    -1.72938     0.150164        0.129935     0.176827\n",
       " -0.0208308  -1.86715     0.0493009   …  -0.0382592    0.173976\n",
       " -0.044159   -1.03962    -0.492969        0.0941917    0.137028\n",
       "  0.0962286   2.38272     1.20651        -0.214099     0.216669\n",
       "  ⋮                                   ⋱               \n",
       "  0.384423   -0.0249086  -0.165035        0.157619     0.0354015\n",
       "  0.106301   -0.0792438  -0.386445        0.0968841    0.637753\n",
       " -0.278283    0.694957    0.192083       -0.229603     0.0181835\n",
       " -0.131546   -1.68392    -0.00560513  …   0.12043      0.172969\n",
       " -0.132722   -1.60854     0.0473762       0.0975672    0.168926\n",
       " -0.12692    -1.58227     0.150582        0.0907282    0.158626\n",
       " -0.163895   -0.21514     0.236381       -0.122304    -0.173666\n",
       " -0.156767   -0.214748    0.236658       -0.112988    -0.168078\n",
       " -0.149115   -0.21429     0.22599     …  -0.094565    -0.158438\n",
       "  0.427832   -0.0180213  -0.295242        0.165015     0.016769\n",
       "  0.439974   -0.0193084  -0.23064         0.169581     0.0252705\n",
       "  0.41902    -0.0235873  -0.109531        0.161227     0.0404565"
      ]
     },
     "execution_count": 3,
     "metadata": {},
     "output_type": "execute_result"
    }
   ],
   "source": [
    "state_vectors_file = apath * \"state_vectors.json\" \n",
    "C = restore_state_vectors(state_vectors_file)"
   ]
  },
  {
   "cell_type": "code",
   "execution_count": 4,
   "metadata": {},
   "outputs": [],
   "source": [
    "patients = load_patients();"
   ]
  },
  {
   "cell_type": "code",
   "execution_count": 5,
   "metadata": {},
   "outputs": [
    {
     "data": {
      "text/plain": [
       "Dict{String,Any} with 8 entries:\n",
       "  \"num_observations\" => 74\n",
       "  \"mortality\"        => true\n",
       "  \"patient_index\"    => 1\n",
       "  \"actions\"          => Any[21, 21, 1, 1, 1, 1, 1, 1, 1, 21  …  1, 1, 1, 1, 2, …\n",
       "  \"icuid\"            => 200003\n",
       "  \"MAP\"              => Any[83, 84.5, 68.2, 69.3333, 70, 73, 66, 68, 71, 72  … …\n",
       "  \"cont_actions\"     => Any[Any[0.2245, 0.224, 0, 0, 0, 0, 0, 0, 0, 0.225  …  0…\n",
       "  \"trajectory\"       => Any[Any[-0.359482, 0.439907, -1.05909, -0.487919, -0.17…"
      ]
     },
     "execution_count": 5,
     "metadata": {},
     "output_type": "execute_result"
    }
   ],
   "source": [
    "patients[1]"
   ]
  },
  {
   "cell_type": "code",
   "execution_count": 6,
   "metadata": {},
   "outputs": [],
   "source": [
    "for pid = 1:n_patients\n",
    "    p       = patients[pid]\n",
    "    states  = []\n",
    "    rewards = []\n",
    "    tr      = p[\"trajectory\"]\n",
    "    tr_len  = size(tr)[1] \n",
    "    dims    = size(tr[1])[1]\n",
    "\n",
    "    for j  = 1:tr_len\n",
    "        d    = Float64(Inf)\n",
    "        idx  = -1\n",
    "        tr_k = convert(Array{Float64, 1}, tr[j])\n",
    "        for k = 1:n_states\n",
    "            d_k = distance(tr_k, C[:, k], dims)\n",
    "            if d_k < d\n",
    "                d   = d_k\n",
    "                idx = k\n",
    "            end\n",
    "        end\n",
    "        push!(states, idx)\n",
    "        push!(rewards, 0.0)\n",
    "    end\n",
    "\n",
    "    if p[\"mortality\"]\n",
    "        push!(states, STATE_DECEASED)\n",
    "        push!(rewards, -1.0)\n",
    "    else\n",
    "        push!(states, STATE_SURVIVED)\n",
    "        push!(rewards, 1.0)\n",
    "    end    \n",
    "\n",
    "    mdp_p = Dict()\n",
    "    mdp_p[\"trajectory\"]  = states\n",
    "    mdp_p[\"rewards\"]     = rewards\n",
    "    mdp_p[\"actions\"]     = p[\"actions\"]\n",
    "\n",
    "    json_mdp_p = JSON.json(mdp_p)\n",
    "    filename   = apath * \"mdp_patient_\" * string(pid) * \".json\"\n",
    "\n",
    "    open(filename, \"w\") do io\n",
    "       println(io, json_mdp_p)\n",
    "    end\n",
    "end\n"
   ]
  },
  {
   "cell_type": "code",
   "execution_count": null,
   "metadata": {},
   "outputs": [],
   "source": []
  }
 ],
 "metadata": {
  "kernelspec": {
   "display_name": "Julia 1.5.2",
   "language": "julia",
   "name": "julia-1.5"
  },
  "language_info": {
   "file_extension": ".jl",
   "mimetype": "application/julia",
   "name": "julia",
   "version": "1.5.2"
  }
 },
 "nbformat": 4,
 "nbformat_minor": 4
}
