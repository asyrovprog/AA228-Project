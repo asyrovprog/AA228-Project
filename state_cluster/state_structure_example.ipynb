{
 "cells": [
  {
   "cell_type": "code",
   "execution_count": 1,
   "metadata": {},
   "outputs": [
    {
     "data": {
      "text/plain": [
       "\"../dataset_artifacts/\""
      ]
     },
     "execution_count": 1,
     "metadata": {},
     "output_type": "execute_result"
    }
   ],
   "source": [
    "using DataFrames\n",
    "using CSV\n",
    "using Profile\n",
    "using PProf\n",
    "using Random\n",
    "using JSON\n",
    "\n",
    "const n_patients   = 5366\n",
    "const n_states     = 750\n",
    "const DS_PATH      = \"../dataset_artifacts/\""
   ]
  },
  {
   "cell_type": "code",
   "execution_count": 2,
   "metadata": {},
   "outputs": [
    {
     "data": {
      "text/plain": [
       "load_trajectories (generic function with 1 method)"
      ]
     },
     "execution_count": 2,
     "metadata": {},
     "output_type": "execute_result"
    }
   ],
   "source": [
    "function load_trajectories()\n",
    "    patients = []\n",
    "    ds = mdp_trajectory_dataset()\n",
    "    \n",
    "    for i = 1:n_patients\n",
    "        p = JSON.parsefile(DS_PATH * \"mdp_patient_\" * string(i) * \".json\")\n",
    "        push!(patients, p) \n",
    "    end\n",
    "\n",
    "    return patients\n",
    "end"
   ]
  },
  {
   "cell_type": "code",
   "execution_count": 13,
   "metadata": {},
   "outputs": [
    {
     "data": {
      "text/plain": [
       "Dict{String,Any} with 5 entries:\n",
       "  \"actions\"         => Any[24, 24, 24, 24, 24, 14, 14, 4, 4, 4  …  2, 2, 2, 2, …\n",
       "  \"cont_trajectory\" => Any[Any[-0.359482, 0.0555777, 0.132761, -0.345521, -0.66…\n",
       "  \"rewards\"         => Any[0.0, 0.0, 0.0, 0.0, 0.0, 0.0, 0.0, 0.0, 0.0, 0.0  … …\n",
       "  \"cont_actions\"    => Any[Any[0.3375, 0.45, 0.225, 0.225, 0.3945, 0.113, 0.113…\n",
       "  \"trajectory\"      => Any[626, 626, 626, 626, 626, 626, 626, 663, 663, 663  … …"
      ]
     },
     "execution_count": 13,
     "metadata": {},
     "output_type": "execute_result"
    }
   ],
   "source": [
    "p = JSON.parsefile(DS_PATH * \"mdp_patient_2.json\")"
   ]
  },
  {
   "cell_type": "code",
   "execution_count": 19,
   "metadata": {},
   "outputs": [
    {
     "data": {
      "text/plain": [
       "(14, 0.113, 94.26)"
      ]
     },
     "execution_count": 19,
     "metadata": {},
     "output_type": "execute_result"
    }
   ],
   "source": [
    "i = 6\n",
    "p[\"actions\"][i], p[\"cont_actions\"][1][i], p[\"cont_actions\"][2][i]"
   ]
  },
  {
   "cell_type": "code",
   "execution_count": 18,
   "metadata": {},
   "outputs": [
    {
     "data": {
      "text/plain": [
       "751"
      ]
     },
     "execution_count": 18,
     "metadata": {},
     "output_type": "execute_result"
    }
   ],
   "source": [
    "p[\"trajectory\"][end]"
   ]
  },
  {
   "cell_type": "code",
   "execution_count": 7,
   "metadata": {},
   "outputs": [
    {
     "data": {
      "text/plain": [
       "75"
      ]
     },
     "execution_count": 7,
     "metadata": {},
     "output_type": "execute_result"
    }
   ],
   "source": [
    "length(p[\"trajectory\"])"
   ]
  },
  {
   "cell_type": "code",
   "execution_count": 8,
   "metadata": {},
   "outputs": [
    {
     "data": {
      "text/plain": [
       "(Any[0.0, 0.0, 0.0, 0.0, 0.0, 0.0, 0.0, 0.0, 0.0, 0.0  …  0.0, 0.0, 0.0, 0.0, 0.0, 0.0, 0.0, 0.0, 0.0, -1.0], Any[21, 21, 1, 1, 1, 1, 1, 1, 1, 21  …  1, 1, 1, 1, 2, 2, 2, 2, 2, 1], Any[1180, 1180, 1180, 1180, 1180, 1180, 1180, 1180, 1180, 1180  …  1180, 1180, 1180, 1180, 1180, 800, 800, 800, 609, 1201])"
      ]
     },
     "execution_count": 8,
     "metadata": {},
     "output_type": "execute_result"
    }
   ],
   "source": [
    "rewards, actions, states = p[\"rewards\"], p[\"actions\"], p[\"trajectory\"]"
   ]
  },
  {
   "cell_type": "code",
   "execution_count": 9,
   "metadata": {},
   "outputs": [
    {
     "data": {
      "text/plain": [
       "-1.0"
      ]
     },
     "execution_count": 9,
     "metadata": {},
     "output_type": "execute_result"
    }
   ],
   "source": [
    "rewards[end]"
   ]
  },
  {
   "cell_type": "code",
   "execution_count": null,
   "metadata": {},
   "outputs": [],
   "source": [
    "function do"
   ]
  }
 ],
 "metadata": {
  "kernelspec": {
   "display_name": "Julia 1.5.2",
   "language": "julia",
   "name": "julia-1.5"
  },
  "language_info": {
   "file_extension": ".jl",
   "mimetype": "application/julia",
   "name": "julia",
   "version": "1.5.2"
  }
 },
 "nbformat": 4,
 "nbformat_minor": 4
}
